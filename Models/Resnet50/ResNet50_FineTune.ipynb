{
 "cells": [
  {
   "cell_type": "markdown",
   "metadata": {
    "colab_type": "text",
    "id": "view-in-github"
   },
   "source": [
    "<a href=\"https://colab.research.google.com/github/liangnic/COMP5703-CS36-1/blob/main/models/ResNet50_FineTune.ipynb\" target=\"_parent\"><img src=\"https://colab.research.google.com/assets/colab-badge.svg\" alt=\"Open In Colab\"/></a>"
   ]
  },
  {
   "cell_type": "code",
   "execution_count": null,
   "metadata": {
    "id": "L3bz1LSEk8Lz"
   },
   "outputs": [],
   "source": [
    "import os, time\n",
    "import numpy as np\n",
    "import pandas as pd\n",
    "import matplotlib.pyplot as plt\n",
    "%matplotlib inline\n",
    "\n",
    "import tensorflow as tf\n",
    "from tensorflow import keras as k\n",
    "\n",
    "from tensorflow.keras.models import Model\n",
    "from tensorflow.keras.layers import Dense, Dropout\n",
    "from tensorflow.keras.layers import GlobalAveragePooling2D\n",
    "\n",
    "from tensorflow.keras import regularizers\n",
    "from tensorflow.keras.optimizers import SGD\n",
    "from tensorflow.keras.regularizers import l2\n",
    "from tensorflow.keras.preprocessing.image import ImageDataGenerator\n",
    "from tensorflow.keras.applications.resnet50 import ResNet50"
   ]
  },
  {
   "cell_type": "code",
   "execution_count": null,
   "metadata": {
    "colab": {
     "base_uri": "https://localhost:8080/"
    },
    "id": "j4pySF3olJRh",
    "outputId": "6ff96c23-5aaa-448d-cc21-842076907d29"
   },
   "outputs": [
    {
     "name": "stdout",
     "output_type": "stream",
     "text": [
      "--2023-09-08 02:33:34--  https://storage.googleapis.com/ztm_tf_course/food_vision/10_food_classes_10_percent.zip\n",
      "Resolving storage.googleapis.com (storage.googleapis.com)... 142.251.162.207, 74.125.31.207, 173.194.211.207, ...\n",
      "Connecting to storage.googleapis.com (storage.googleapis.com)|142.251.162.207|:443... connected.\n",
      "HTTP request sent, awaiting response... 200 OK\n",
      "Length: 168546183 (161M) [application/zip]\n",
      "Saving to: ‘10_food_classes_10_percent.zip’\n",
      "\n",
      "10_food_classes_10_ 100%[===================>] 160.74M  66.1MB/s    in 2.4s    \n",
      "\n",
      "2023-09-08 02:33:36 (66.1 MB/s) - ‘10_food_classes_10_percent.zip’ saved [168546183/168546183]\n",
      "\n",
      "There are 2 directories and 0 images in '10_food_classes_10_percent'.\n",
      "There are 10 directories and 0 images in '10_food_classes_10_percent/test'.\n",
      "There are 0 directories and 250 images in '10_food_classes_10_percent/test/chicken_wings'.\n",
      "There are 0 directories and 250 images in '10_food_classes_10_percent/test/ice_cream'.\n",
      "There are 0 directories and 250 images in '10_food_classes_10_percent/test/grilled_salmon'.\n",
      "There are 0 directories and 250 images in '10_food_classes_10_percent/test/steak'.\n",
      "There are 0 directories and 250 images in '10_food_classes_10_percent/test/pizza'.\n",
      "There are 0 directories and 250 images in '10_food_classes_10_percent/test/fried_rice'.\n",
      "There are 0 directories and 250 images in '10_food_classes_10_percent/test/ramen'.\n",
      "There are 0 directories and 250 images in '10_food_classes_10_percent/test/hamburger'.\n",
      "There are 0 directories and 250 images in '10_food_classes_10_percent/test/chicken_curry'.\n",
      "There are 0 directories and 250 images in '10_food_classes_10_percent/test/sushi'.\n",
      "There are 10 directories and 0 images in '10_food_classes_10_percent/train'.\n",
      "There are 0 directories and 75 images in '10_food_classes_10_percent/train/chicken_wings'.\n",
      "There are 0 directories and 75 images in '10_food_classes_10_percent/train/ice_cream'.\n",
      "There are 0 directories and 75 images in '10_food_classes_10_percent/train/grilled_salmon'.\n",
      "There are 0 directories and 75 images in '10_food_classes_10_percent/train/steak'.\n",
      "There are 0 directories and 75 images in '10_food_classes_10_percent/train/pizza'.\n",
      "There are 0 directories and 75 images in '10_food_classes_10_percent/train/fried_rice'.\n",
      "There are 0 directories and 75 images in '10_food_classes_10_percent/train/ramen'.\n",
      "There are 0 directories and 75 images in '10_food_classes_10_percent/train/hamburger'.\n",
      "There are 0 directories and 75 images in '10_food_classes_10_percent/train/chicken_curry'.\n",
      "There are 0 directories and 75 images in '10_food_classes_10_percent/train/sushi'.\n"
     ]
    }
   ],
   "source": [
    "import zipfile\n",
    "\n",
    "# Download the data(10% of 10 food classes from Food101)\n",
    "!wget https://storage.googleapis.com/ztm_tf_course/food_vision/10_food_classes_10_percent.zip\n",
    "\n",
    "zip_ref = zipfile.ZipFile('10_food_classes_10_percent.zip')\n",
    "zip_ref.extractall()\n",
    "zip_ref.close()\n",
    "\n",
    "# Walk through 10% data directory and list number of files...\n",
    "for dirpath, dirnames, filenames in os.walk('10_food_classes_10_percent'):\n",
    "    print(f\"There are {len(dirnames)} directories and {len(filenames)} images in '{dirpath}'.\")"
   ]
  },
  {
   "cell_type": "code",
   "execution_count": null,
   "metadata": {
    "id": "5eUOIZAUlPmD"
   },
   "outputs": [],
   "source": [
    "train_dir = \"10_food_classes_10_percent/test/\"\n",
    "test_dir = \"10_food_classes_10_percent/train/\""
   ]
  },
  {
   "cell_type": "markdown",
   "metadata": {
    "id": "2r78Hl3Qwd7b"
   },
   "source": [
    "Filepath"
   ]
  },
  {
   "cell_type": "code",
   "execution_count": null,
   "metadata": {
    "id": "TQq20_MTwsHA"
   },
   "outputs": [],
   "source": [
    "from google.colab import drive\n",
    "drive.mount(\"/content/drive\")"
   ]
  },
  {
   "cell_type": "code",
   "execution_count": null,
   "metadata": {
    "id": "w9Gc0ozhwfr8"
   },
   "outputs": [],
   "source": [
    "PATH = '/content/drive/MyDrive/COMP5703/resnet50_model.h5'"
   ]
  },
  {
   "cell_type": "markdown",
   "metadata": {
    "id": "IEP3Jy1coovR"
   },
   "source": [
    "Testing GPU"
   ]
  },
  {
   "cell_type": "code",
   "execution_count": null,
   "metadata": {
    "colab": {
     "base_uri": "https://localhost:8080/"
    },
    "id": "FKuqU8Cloq8Z",
    "outputId": "c52f0578-15e4-4437-8835-788a169dc2a5"
   },
   "outputs": [
    {
     "name": "stdout",
     "output_type": "stream",
     "text": [
      "Found GPU at: /device:GPU:0\n"
     ]
    }
   ],
   "source": [
    "device_name = tf.test.gpu_device_name()\n",
    "if device_name != '/device:GPU:0':\n",
    "  raise SystemError('GPU device not found')\n",
    "print('Found GPU at: {}'.format(device_name))"
   ]
  },
  {
   "cell_type": "markdown",
   "metadata": {
    "id": "dAagYJpEk9aY"
   },
   "source": [
    "# Data augmentation"
   ]
  },
  {
   "cell_type": "code",
   "execution_count": null,
   "metadata": {
    "id": "YbRG2qgJlw7y"
   },
   "outputs": [],
   "source": [
    "N_CLASS = 10\n",
    "IMAGE_SHAPE = (224, 224)\n",
    "BATCH_SIZE = 32\n",
    "EPOCHS = 10"
   ]
  },
  {
   "cell_type": "code",
   "execution_count": null,
   "metadata": {
    "colab": {
     "base_uri": "https://localhost:8080/"
    },
    "id": "HBeTdzx8lXTg",
    "outputId": "7bcbe461-2390-4893-ed59-10ef0b0362da"
   },
   "outputs": [
    {
     "name": "stdout",
     "output_type": "stream",
     "text": [
      "Training images:\n",
      "Found 2500 images belonging to 10 classes.\n",
      "Testing images:\n",
      "Found 750 images belonging to 10 classes.\n"
     ]
    }
   ],
   "source": [
    "train_datagen = ImageDataGenerator(\n",
    "    rescale=1. / 255,\n",
    "    shear_range=0.2,\n",
    "    zoom_range=0.2,\n",
    "    horizontal_flip=True)\n",
    "test_datagen = ImageDataGenerator(rescale=1./255)\n",
    "\n",
    "print(\"Training images:\")\n",
    "train_generator = train_datagen.flow_from_directory(train_dir,\n",
    "                                                    target_size=IMAGE_SHAPE,\n",
    "                                                    batch_size=BATCH_SIZE,\n",
    "                                                    class_mode='categorical',\n",
    "                                                    shuffle=True)\n",
    "\n",
    "print(\"Testing images:\")\n",
    "validation_generator = test_datagen.flow_from_directory(test_dir,\n",
    "                                                        target_size=IMAGE_SHAPE,\n",
    "                                                        batch_size=BATCH_SIZE,\n",
    "                                                        class_mode='categorical',\n",
    "                                                        shuffle=True)"
   ]
  },
  {
   "cell_type": "markdown",
   "metadata": {
    "id": "AYbnt5XqmlZC"
   },
   "source": [
    "# Resnet50 - Initial - Don't run"
   ]
  },
  {
   "cell_type": "code",
   "execution_count": null,
   "metadata": {
    "id": "61TIRNthmk6R"
   },
   "outputs": [],
   "source": [
    "resnet50 = ResNet50(weights='imagenet', pooling='avg', include_top=False)"
   ]
  },
  {
   "cell_type": "code",
   "execution_count": null,
   "metadata": {
    "id": "r5Uyw5JJnrkL"
   },
   "outputs": [],
   "source": [
    "resnet50.summary()"
   ]
  },
  {
   "cell_type": "code",
   "execution_count": null,
   "metadata": {
    "colab": {
     "base_uri": "https://localhost:8080/"
    },
    "id": "5Ow71hpfoFuZ",
    "outputId": "66793256-442a-420c-f471-341738aa943b"
   },
   "outputs": [
    {
     "name": "stderr",
     "output_type": "stream",
     "text": [
      "<ipython-input-24-ef2632cacffb>:12: UserWarning: `Model.fit_generator` is deprecated and will be removed in a future version. Please use `Model.fit`, which supports generators.\n",
      "  history_resnet50 = model.fit_generator(train_generator,\n"
     ]
    },
    {
     "name": "stdout",
     "output_type": "stream",
     "text": [
      "Epoch 1/10\n",
      "79/79 [==============================] - 68s 608ms/step - loss: 0.9453 - accuracy: 0.7488 - val_loss: 3.0487 - val_accuracy: 0.0893\n",
      "Epoch 2/10\n",
      "79/79 [==============================] - 48s 604ms/step - loss: 0.3722 - accuracy: 0.9184 - val_loss: 3.4112 - val_accuracy: 0.1000\n",
      "Epoch 3/10\n",
      "79/79 [==============================] - 47s 596ms/step - loss: 0.3075 - accuracy: 0.9408 - val_loss: 3.7685 - val_accuracy: 0.1027\n",
      "Epoch 4/10\n",
      "79/79 [==============================] - 47s 589ms/step - loss: 0.2538 - accuracy: 0.9496 - val_loss: 3.6540 - val_accuracy: 0.1120\n",
      "Epoch 5/10\n",
      "79/79 [==============================] - 48s 602ms/step - loss: 0.2211 - accuracy: 0.9616 - val_loss: 3.4621 - val_accuracy: 0.1413\n",
      "Epoch 6/10\n",
      "79/79 [==============================] - 67s 845ms/step - loss: 0.2012 - accuracy: 0.9684 - val_loss: 3.0870 - val_accuracy: 0.2560\n",
      "Epoch 7/10\n",
      "79/79 [==============================] - 52s 662ms/step - loss: 0.1754 - accuracy: 0.9744 - val_loss: 2.4379 - val_accuracy: 0.4227\n",
      "Epoch 8/10\n",
      "79/79 [==============================] - 47s 596ms/step - loss: 0.1818 - accuracy: 0.9720 - val_loss: 1.9321 - val_accuracy: 0.5307\n",
      "Epoch 9/10\n",
      "79/79 [==============================] - 48s 604ms/step - loss: 0.1546 - accuracy: 0.9816 - val_loss: 1.3704 - val_accuracy: 0.6693\n",
      "Epoch 10/10\n",
      "79/79 [==============================] - 48s 604ms/step - loss: 0.1514 - accuracy: 0.9796 - val_loss: 1.0053 - val_accuracy: 0.7653\n"
     ]
    }
   ],
   "source": [
    "x = resnet50.output\n",
    "#x = GlobalAveragePooling2D()(x)\n",
    "x = Dense(128,activation='relu')(x)\n",
    "x = Dropout(0.02)(x)   #Dropout to prevent overfitting\n",
    "\n",
    "predictions = Dense(N_CLASS, kernel_regularizer=regularizers.l2(0.005), activation='softmax')(x)\n",
    "\n",
    "model = Model(inputs=resnet50.input, outputs=predictions)\n",
    "\n",
    "model.compile(optimizer=SGD(learning_rate=0.001, momentum=0.9), loss='categorical_crossentropy', metrics=['accuracy'])\n",
    "\n",
    "history_resnet50 = model.fit_generator(train_generator,\n",
    "                    validation_data=validation_generator,\n",
    "                    epochs=10,\n",
    "                    verbose=1)\n"
   ]
  },
  {
   "cell_type": "code",
   "execution_count": null,
   "metadata": {
    "colab": {
     "base_uri": "https://localhost:8080/",
     "height": 472
    },
    "id": "KJKn944jut30",
    "outputId": "895c9c8e-5332-444e-be2a-84916973118e"
   },
   "outputs": [
    {
     "data": {
      "image/png": "[encoded data removed]",
      "text/plain": [
       "<Figure size 640x480 with 1 Axes>"
      ]
     },
     "metadata": {},
     "output_type": "display_data"
    }
   ],
   "source": [
    "import matplotlib.pyplot as plt\n",
    "\n",
    "plt.title('Accuracy Model')\n",
    "plt.plot(history_resnet50.history['val_accuracy'])\n",
    "plt.plot(history_resnet50.history['accuracy'])\n",
    "plt.ylabel('Accuracy')\n",
    "plt.xlabel('epoch')\n",
    "plt.legend(['val_accuracy', 'accuracy'], loc='best')\n",
    "plt.show()"
   ]
  },
  {
   "cell_type": "code",
   "execution_count": null,
   "metadata": {
    "colab": {
     "base_uri": "https://localhost:8080/",
     "height": 472
    },
    "id": "rFljXdRVu9dp",
    "outputId": "3f84cb3b-61ad-4eb7-9449-66ddf868b694"
   },
   "outputs": [
    {
     "data": {
      "image/png": "[encoded data removed]",
      "text/plain": [
       "<Figure size 640x480 with 1 Axes>"
      ]
     },
     "metadata": {},
     "output_type": "display_data"
    }
   ],
   "source": [
    "plt.title('Loss Model')\n",
    "plt.plot(history_resnet50.history['val_loss'])\n",
    "plt.plot(history_resnet50.history['loss'])\n",
    "plt.ylabel('Loss')\n",
    "plt.xlabel('epoch')\n",
    "plt.legend(['val_loss', 'loss'], loc='best')\n",
    "plt.show()"
   ]
  },
  {
   "cell_type": "markdown",
   "metadata": {
    "id": "6Hddy5c_rNZH"
   },
   "source": [
    "# Tunnnnnnning - Run here for fine-tune"
   ]
  },
  {
   "cell_type": "code",
   "execution_count": null,
   "metadata": {
    "id": "z6C1zzaKxy3r"
   },
   "outputs": [],
   "source": [
    "from tensorflow.keras import callbacks\n",
    "from tensorflow.keras.callbacks import ModelCheckpoint, CSVLogger\n",
    "from tensorflow.keras.callbacks import TensorBoard, ReduceLROnPlateau, EarlyStopping"
   ]
  },
  {
   "cell_type": "code",
   "execution_count": null,
   "metadata": {
    "id": "NRvuwrBMxAHQ"
   },
   "outputs": [],
   "source": [
    "model = tf.keras.models.load_model(PATH)"
   ]
  },
  {
   "cell_type": "code",
   "execution_count": null,
   "metadata": {
    "id": "CELKa0WgxOaW"
   },
   "outputs": [],
   "source": [
    "model.summary()"
   ]
  },
  {
   "cell_type": "code",
   "execution_count": null,
   "metadata": {
    "colab": {
     "base_uri": "https://localhost:8080/"
    },
    "id": "ebpzyNpp1CQG",
    "outputId": "274b3179-b976-42f4-d14f-7328b6c7a521"
   },
   "outputs": [
    {
     "data": {
      "text/plain": [
       "216"
      ]
     },
     "execution_count": 37,
     "metadata": {},
     "output_type": "execute_result"
    }
   ],
   "source": [
    "len(model.trainable_variables)"
   ]
  },
  {
   "cell_type": "code",
   "execution_count": null,
   "metadata": {
    "id": "5MUYFw921H7Y"
   },
   "outputs": [],
   "source": [
    "tf.keras.utils.plot_model(model, show_shapes=True)"
   ]
  },
  {
   "cell_type": "code",
   "execution_count": null,
   "metadata": {
    "colab": {
     "base_uri": "https://localhost:8080/"
    },
    "id": "jI2HEZEC1dou",
    "outputId": "d4a29bf5-4b74-48d2-f05a-23af4cba0795"
   },
   "outputs": [
    {
     "name": "stdout",
     "output_type": "stream",
     "text": [
      "Number of layers in the base model:  179\n",
      "Number of layers in the base model:  179\n"
     ]
    }
   ],
   "source": [
    "print(\"Number of layers in the base model: \", len(model.layers))\n",
    "\n",
    "model.trainable = True\n",
    "print(\"Number of layers in the base model: \", len(model.layers))"
   ]
  },
  {
   "cell_type": "code",
   "execution_count": null,
   "metadata": {
    "id": "HxzDPLYNxMqY"
   },
   "outputs": [],
   "source": [
    "model.compile(optimizer=SGD(learning_rate=0.001, momentum=0.9), loss='categorical_crossentropy', metrics=['accuracy'])\n",
    "\n",
    "#Callback for model saving and reducing learning rate on plateau\n",
    "callbacks_list = [callbacks.ModelCheckpoint(\n",
    "        filepath = PATH,\n",
    "        monitor = 'val_loss',\n",
    "        save_best_only = True),\n",
    "        callbacks.ReduceLROnPlateau(\n",
    "            monitor='val_accuracy',\n",
    "            factor=0.1,\n",
    "            patience=2,\n",
    "            mode='auto',\n",
    "            min_delta=0.002,\n",
    "            min_lr=1e-8),\n",
    "        callbacks.EarlyStopping(\n",
    "            monitor='val_accuracy',\n",
    "            min_delta=0.001,\n",
    "            patience=3,\n",
    "            verbose=1,\n",
    "            mode='auto',\n",
    "            baseline=None)]\n"
   ]
  },
  {
   "cell_type": "code",
   "execution_count": null,
   "metadata": {
    "colab": {
     "base_uri": "https://localhost:8080/"
    },
    "id": "7zeWOlJHyk_l",
    "outputId": "e698e68b-8581-4266-f0aa-8f5bb72c2173"
   },
   "outputs": [
    {
     "name": "stderr",
     "output_type": "stream",
     "text": [
      "<ipython-input-36-fb41ded1a972>:1: UserWarning: `Model.fit_generator` is deprecated and will be removed in a future version. Please use `Model.fit`, which supports generators.\n",
      "  history = model.fit_generator(train_generator,\n"
     ]
    },
    {
     "name": "stdout",
     "output_type": "stream",
     "text": [
      "Epoch 1/20\n",
      "79/79 [==============================] - 79s 641ms/step - loss: 0.1324 - accuracy: 0.9880 - val_loss: 0.9518 - val_accuracy: 0.7867 - lr: 0.0010\n",
      "Epoch 2/20\n",
      "79/79 [==============================] - 57s 714ms/step - loss: 0.1368 - accuracy: 0.9844 - val_loss: 0.8800 - val_accuracy: 0.8080 - lr: 0.0010\n",
      "Epoch 3/20\n",
      "79/79 [==============================] - 49s 614ms/step - loss: 0.1257 - accuracy: 0.9888 - val_loss: 0.9006 - val_accuracy: 0.8067 - lr: 0.0010\n",
      "Epoch 4/20\n",
      "79/79 [==============================] - 50s 634ms/step - loss: 0.1248 - accuracy: 0.9896 - val_loss: 0.8917 - val_accuracy: 0.8053 - lr: 0.0010\n",
      "Epoch 5/20\n",
      "79/79 [==============================] - 49s 615ms/step - loss: 0.1224 - accuracy: 0.9864 - val_loss: 0.8961 - val_accuracy: 0.8053 - lr: 1.0000e-04\n",
      "Epoch 5: early stopping\n"
     ]
    }
   ],
   "source": [
    "history = model.fit_generator(train_generator,\n",
    "                    validation_data=validation_generator,\n",
    "                    epochs=20,\n",
    "                    verbose=1,\n",
    "                    callbacks = callbacks_list)"
   ]
  },
  {
   "cell_type": "markdown",
   "metadata": {
    "id": "yClByVsZ5hPV"
   },
   "source": [
    "Train weights of all the layers in the model from layer 5"
   ]
  },
  {
   "cell_type": "code",
   "execution_count": null,
   "metadata": {
    "colab": {
     "base_uri": "https://localhost:8080/"
    },
    "id": "xQnOXg3G0YNc",
    "outputId": "df13ca3c-a2e2-42fb-d52f-353a6279d27e"
   },
   "outputs": [
    {
     "name": "stdout",
     "output_type": "stream",
     "text": [
      "conv_5 is now trainable\n"
     ]
    }
   ],
   "source": [
    "for layer in [l for l in model.layers if 'conv5' not in l.name]:\n",
    "   layer.trainable = False\n",
    "for layer in [l for l in model.layers if 'conv5' in l.name or l.name == 'probs']:\n",
    "   layer.trainable = True\n",
    "\n",
    "print('conv_5 is now trainable')"
   ]
  },
  {
   "cell_type": "code",
   "execution_count": null,
   "metadata": {
    "id": "8oCZJLeW5w5o"
   },
   "outputs": [],
   "source": [
    "model.compile(optimizer=SGD(learning_rate=0.001, momentum=0.9), loss='categorical_crossentropy', metrics=['accuracy'])\n",
    "\n",
    "#Callback for model saving and reducing learning rate on plateau\n",
    "callbacks_list = [callbacks.ModelCheckpoint(\n",
    "        filepath = PATH,\n",
    "        monitor = 'val_loss',\n",
    "        save_best_only = True),\n",
    "        callbacks.ReduceLROnPlateau(\n",
    "            monitor='val_accuracy',\n",
    "            factor=0.1,\n",
    "            patience=2,\n",
    "            mode='auto',\n",
    "            min_delta=0.002,\n",
    "            min_lr=1e-8),\n",
    "        callbacks.EarlyStopping(\n",
    "            monitor='val_accuracy',\n",
    "            min_delta=0.001,\n",
    "            patience=3,\n",
    "            verbose=1,\n",
    "            mode='auto',\n",
    "            baseline=None)]"
   ]
  },
  {
   "cell_type": "code",
   "execution_count": null,
   "metadata": {
    "colab": {
     "base_uri": "https://localhost:8080/"
    },
    "id": "pjW9Zqzd54Yz",
    "outputId": "a6b2cf0a-98a0-451b-f9b1-de5da02b3dcb"
   },
   "outputs": [
    {
     "name": "stderr",
     "output_type": "stream",
     "text": [
      "<ipython-input-47-2a84ae1e7ab4>:1: UserWarning: `Model.fit_generator` is deprecated and will be removed in a future version. Please use `Model.fit`, which supports generators.\n",
      "  history = model.fit_generator(train_generator,\n"
     ]
    },
    {
     "name": "stdout",
     "output_type": "stream",
     "text": [
      "Epoch 1/15\n",
      "79/79 [==============================] - 55s 607ms/step - loss: 0.1099 - accuracy: 0.9944 - val_loss: 0.8916 - val_accuracy: 0.8067 - lr: 0.0010\n",
      "Epoch 2/15\n",
      "79/79 [==============================] - 53s 673ms/step - loss: 0.1127 - accuracy: 0.9936 - val_loss: 0.8776 - val_accuracy: 0.8147 - lr: 0.0010\n",
      "Epoch 3/15\n",
      "79/79 [==============================] - 44s 562ms/step - loss: 0.1036 - accuracy: 0.9956 - val_loss: 0.8939 - val_accuracy: 0.8040 - lr: 0.0010\n",
      "Epoch 4/15\n",
      "79/79 [==============================] - 47s 591ms/step - loss: 0.1055 - accuracy: 0.9956 - val_loss: 0.8967 - val_accuracy: 0.8080 - lr: 0.0010\n",
      "Epoch 5/15\n",
      "79/79 [==============================] - 45s 568ms/step - loss: 0.1019 - accuracy: 0.9976 - val_loss: 0.8956 - val_accuracy: 0.8080 - lr: 1.0000e-04\n",
      "Epoch 5: early stopping\n"
     ]
    }
   ],
   "source": [
    "history = model.fit_generator(train_generator,\n",
    "                    validation_data=validation_generator,\n",
    "                    epochs=15,\n",
    "                    verbose=1,\n",
    "                    callbacks = callbacks_list)"
   ]
  },
  {
   "cell_type": "markdown",
   "metadata": {
    "id": "cl2LTJPS9vy_"
   },
   "source": [
    "-----can't go higher------"
   ]
  },
  {
   "cell_type": "code",
   "execution_count": null,
   "metadata": {
    "colab": {
     "base_uri": "https://localhost:8080/"
    },
    "id": "2wf9f-fhzFdY",
    "outputId": "368c60ae-2525-4b2f-dcda-cd8785baf962"
   },
   "outputs": [
    {
     "name": "stdout",
     "output_type": "stream",
     "text": [
      "24/24 [==============================] - 3s 120ms/step - loss: 0.8956 - accuracy: 0.8080\n"
     ]
    },
    {
     "data": {
      "text/plain": [
       "[0.8955681324005127, 0.8080000281333923]"
      ]
     },
     "execution_count": 48,
     "metadata": {},
     "output_type": "execute_result"
    }
   ],
   "source": [
    "model.evaluate(validation_generator)"
   ]
  },
  {
   "cell_type": "markdown",
   "metadata": {
    "id": "hT-KB0Aq6Skp"
   },
   "source": [
    "Show current learning rate"
   ]
  },
  {
   "cell_type": "code",
   "execution_count": null,
   "metadata": {
    "colab": {
     "base_uri": "https://localhost:8080/"
    },
    "id": "VmNy8u4e6VGG",
    "outputId": "65e36b9f-bcdc-45fb-8556-c5a62a77a6cb"
   },
   "outputs": [
    {
     "name": "stdout",
     "output_type": "stream",
     "text": [
      "0.000100000005\n"
     ]
    }
   ],
   "source": [
    "import keras.backend as K\n",
    "print(K.eval(model.optimizer.lr))"
   ]
  },
  {
   "cell_type": "markdown",
   "metadata": {
    "id": "sU_YIrDH-Jlz"
   },
   "source": [
    "Unfreeze all the layers, use the new learning rate"
   ]
  },
  {
   "cell_type": "code",
   "execution_count": null,
   "metadata": {
    "id": "bx-d311X-JI8"
   },
   "outputs": [],
   "source": [
    "model.trainable = True"
   ]
  },
  {
   "cell_type": "code",
   "execution_count": null,
   "metadata": {
    "colab": {
     "base_uri": "https://localhost:8080/"
    },
    "id": "wc9istPt-8Ua",
    "outputId": "a8e2a4d1-ed84-411a-f633-e090b6d01dae"
   },
   "outputs": [
    {
     "name": "stderr",
     "output_type": "stream",
     "text": [
      "<ipython-input-62-0dce30975211>:21: UserWarning: `Model.fit_generator` is deprecated and will be removed in a future version. Please use `Model.fit`, which supports generators.\n",
      "  history = model.fit_generator(train_generator,\n"
     ]
    },
    {
     "name": "stdout",
     "output_type": "stream",
     "text": [
      "Epoch 1/10\n",
      "79/79 [==============================] - 79s 730ms/step - loss: 0.1013 - accuracy: 0.9952 - val_loss: 0.9076 - val_accuracy: 0.8093 - lr: 1.0000e-04\n",
      "Epoch 2/10\n",
      "79/79 [==============================] - 52s 647ms/step - loss: 0.1049 - accuracy: 0.9948 - val_loss: 0.9100 - val_accuracy: 0.8093 - lr: 1.0000e-04\n",
      "Epoch 3/10\n",
      "79/79 [==============================] - 52s 663ms/step - loss: 0.1050 - accuracy: 0.9940 - val_loss: 0.9040 - val_accuracy: 0.8120 - lr: 1.0000e-04\n",
      "Epoch 4/10\n",
      "79/79 [==============================] - 49s 624ms/step - loss: 0.1027 - accuracy: 0.9944 - val_loss: 0.9095 - val_accuracy: 0.8093 - lr: 1.0000e-04\n",
      "Epoch 5/10\n",
      "79/79 [==============================] - 50s 634ms/step - loss: 0.1067 - accuracy: 0.9936 - val_loss: 0.9141 - val_accuracy: 0.8040 - lr: 1.0000e-04\n",
      "Epoch 6/10\n",
      "79/79 [==============================] - 50s 632ms/step - loss: 0.1057 - accuracy: 0.9928 - val_loss: 0.9128 - val_accuracy: 0.8053 - lr: 1.0000e-05\n",
      "Epoch 6: early stopping\n"
     ]
    }
   ],
   "source": [
    "model.compile(optimizer=SGD(learning_rate=0.0001, momentum=0.9), loss='categorical_crossentropy', metrics=['accuracy'])\n",
    "callbacks_list = [callbacks.ModelCheckpoint(\n",
    "        filepath = PATH,\n",
    "        monitor = 'val_loss',\n",
    "        save_best_only = True),\n",
    "        callbacks.ReduceLROnPlateau(\n",
    "            monitor='val_accuracy',\n",
    "            factor=0.1,\n",
    "            patience=2,\n",
    "            mode='auto',\n",
    "            min_delta=0.002,\n",
    "            min_lr=1e-8),\n",
    "        callbacks.EarlyStopping(\n",
    "            monitor='val_accuracy',\n",
    "            min_delta=0.001,\n",
    "            patience=3,\n",
    "            verbose=1,\n",
    "            mode='auto',\n",
    "            baseline=None)]\n",
    "\n",
    "history = model.fit_generator(train_generator,\n",
    "                    validation_data=validation_generator,\n",
    "                    epochs=10,\n",
    "                    verbose=1,\n",
    "                    callbacks = callbacks_list)"
   ]
  },
  {
   "cell_type": "markdown",
   "metadata": {
    "id": "5lbdfjVxqGjf"
   },
   "source": [
    "#Output score Graphs"
   ]
  },
  {
   "cell_type": "code",
   "execution_count": null,
   "metadata": {
    "colab": {
     "base_uri": "https://localhost:8080/",
     "height": 472
    },
    "id": "RH9kS8VN8k5x",
    "outputId": "33073a89-64c8-40cc-82a0-e605fada6406"
   },
   "outputs": [
    {
     "data": {
      "image/png": "[encoded data removed]",
      "text/plain": [
       "<Figure size 640x480 with 1 Axes>"
      ]
     },
     "metadata": {},
     "output_type": "display_data"
    }
   ],
   "source": [
    "plt.title('Accuracy Model')\n",
    "plt.plot(history.history['val_accuracy'])\n",
    "plt.plot(history.history['accuracy'])\n",
    "plt.ylabel('Accuracy')\n",
    "plt.xlabel('epoch')\n",
    "plt.legend(['val_accuracy', 'accuracy'], loc='best')\n",
    "plt.show()"
   ]
  },
  {
   "cell_type": "code",
   "execution_count": null,
   "metadata": {
    "colab": {
     "base_uri": "https://localhost:8080/",
     "height": 472
    },
    "id": "zSb8qHFF8ony",
    "outputId": "2e6d2584-4d87-4067-fe30-69ebad18c7cf"
   },
   "outputs": [
    {
     "data": {
      "image/png": "[encoded data removed]",
      "text/plain": [
       "<Figure size 640x480 with 1 Axes>"
      ]
     },
     "metadata": {},
     "output_type": "display_data"
    }
   ],
   "source": [
    "plt.title('Loss Model')\n",
    "plt.plot(history.history['val_loss'])\n",
    "plt.plot(history.history['loss'])\n",
    "plt.ylabel('Loss')\n",
    "plt.xlabel('epoch')\n",
    "plt.legend(['val_loss', 'loss'], loc='best')\n",
    "plt.show()"
   ]
  }
 ],
 "metadata": {
  "accelerator": "GPU",
  "colab": {
   "authorship_tag": "ABX9TyORDCP8GO6rQZK016DtAbkE",
   "gpuType": "T4",
   "include_colab_link": true,
   "mount_file_id": "1aWYBaLeaIMcDALmo7BkHP0FnGBaRW-LF",
   "provenance": [],
   "toc_visible": true
  },
  "kernelspec": {
   "display_name": "Python 3",
   "language": "python",
   "name": "python3"
  },
  "language_info": {
   "codemirror_mode": {
    "name": "ipython",
    "version": 3
   },
   "file_extension": ".py",
   "mimetype": "text/x-python",
   "name": "python",
   "nbconvert_exporter": "python",
   "pygments_lexer": "ipython3",
   "version": "3.8.8"
  }
 },
 "nbformat": 4,
 "nbformat_minor": 1
}
